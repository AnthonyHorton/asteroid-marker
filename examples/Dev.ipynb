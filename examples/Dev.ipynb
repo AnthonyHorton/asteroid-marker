{
 "cells": [
  {
   "cell_type": "code",
   "execution_count": 1,
   "metadata": {},
   "outputs": [],
   "source": [
    "# Core\n",
    "from pathlib import Path\n",
    "import gzip\n",
    "from warnings import warn\n",
    "import os\n",
    "import time\n",
    "\n",
    "# 3rd party\n",
    "from wget import download\n",
    "import numpy as np\n",
    "import pandas as pd\n",
    "import astropy.units as u\n",
    "import ephem"
   ]
  },
  {
   "cell_type": "code",
   "execution_count": 2,
   "metadata": {
    "collapsed": true
   },
   "outputs": [],
   "source": [
    "def min_magnitude_estimate(minor_planet):\n",
    "    return minor_planet.H + 2.5 * np.log(minor_planet.Perihelion_dist**2 * (1 - minor_planet.Perihelion_dist)**2)"
   ]
  },
  {
   "cell_type": "code",
   "execution_count": 3,
   "metadata": {
    "collapsed": true
   },
   "outputs": [],
   "source": [
    "class MinorPlanetDB():\n",
    "    def __init__(self,\n",
    "                 path='../data/mpcorb_extended.json.gz',\n",
    "                 download_url='http://minorplanetcenter.net/Extended_Files/mpcorb_extended.json.gz',\n",
    "                 max_age=1 * u.day):\n",
    "        \n",
    "        self.path = Path(path)\n",
    "        self.url = download_url\n",
    "        self.max_age = max_age\n",
    "        \n",
    "        self.refresh_db()\n",
    "                    \n",
    "    def refresh_db(self):\n",
    "        \n",
    "        # Check if MPCORB database already downloaded. If not attempt to download it\n",
    "        if not self.path.exists():\n",
    "            warn(\"MPC Orbit Database file not found. Downloading...\")\n",
    "            download(self.url, out=self.path.as_posix())\n",
    "            warn(\"Done.\")\n",
    "        # Check age of MPCORB database. If exceeds max_age download again\n",
    "        elif (time.time() - os.path.getmtime(self.path.as_posix())) * u.second > self.max_age:\n",
    "            warm(\"MPC Orbit Database file stale. Downloading a fresh copy...\")\n",
    "            download(self.url, out=self.path.as_posix())\n",
    "            warn(\"Done.\")\n",
    "            \n",
    "        # Load MPCORB database as a pandas DataFrame\n",
    "        with gzip.open(self.path.as_posix(), 'rt') as db:\n",
    "            self.db = pd.read_json(db)\n",
    "            \n",
    "        # Create a unique ID column from Number & Name (if present) or Principal_desig if not\n",
    "        self.db['ID'] = (self.db.Number + ' ' + self.db.Name).combine_first(self.db.Principal_desig)\n",
    "        \n",
    "        # Set unique ID as the index\n",
    "        self.db.set_index('ID', inplace=True)\n",
    "        \n",
    "    def make_bodies(self, magnitude_limit=12):\n",
    "        \n",
    "        # Filter minor planets that definitely would be fainter than magnitude limit\n",
    "        pruned_db = self.db[np.logical_or(lambda x: x.Perihelion_dist < 1.0, \n",
    "                                          lambda x: max_magnitude_estimate(x) < magnitude_limit)]\n",
    "        \n",
    "        self.bodies = {}\n",
    "        for ID, minor_planet in pruned_db.iterrows():\n",
    "            body = ephem.EllipticalBody()\n",
    "            body.name = ID\n",
    "            body._inc = minor_planet.i\n",
    "            body._Om = minor_planet.Node\n",
    "            body._om = minor_planet.Peri\n",
    "            body._a = minor_planet.a\n",
    "            body._M = minor_planet.M\n",
    "            body._epoch_M = minor_planet.Epoch\n",
    "            body._e = minor_planet.e\n",
    "            body._epoch = minor_planet.Epoch\n",
    "            body._H = minor_planet.H\n",
    "            body._G = minor_planet.G\n",
    "            \n",
    "            self.bodies[ID] = body"
   ]
  },
  {
   "cell_type": "code",
   "execution_count": 4,
   "metadata": {},
   "outputs": [],
   "source": [
    "minor_planets = MinorPlanetDB()"
   ]
  },
  {
   "cell_type": "code",
   "execution_count": 5,
   "metadata": {},
   "outputs": [
    {
     "name": "stdout",
     "output_type": "stream",
     "text": [
      "<class 'pandas.core.frame.DataFrame'>\n",
      "Index: 747239 entries, (1) Ceres to 5154 T-3\n",
      "Data columns (total 38 columns):\n",
      "Aphelion_dist                         747239 non-null float64\n",
      "Arc_length                            139560 non-null float64\n",
      "Arc_years                             607679 non-null object\n",
      "Computer                              747239 non-null object\n",
      "Critical_list_numbered_object_flag    578 non-null float64\n",
      "Epoch                                 747239 non-null float64\n",
      "G                                     743886 non-null float64\n",
      "H                                     743886 non-null float64\n",
      "Hex_flags                             747239 non-null object\n",
      "Last_obs                              747239 non-null object\n",
      "M                                     747239 non-null float64\n",
      "NEO_flag                              16949 non-null float64\n",
      "Name                                  21111 non-null object\n",
      "Node                                  747239 non-null float64\n",
      "Num_obs                               747224 non-null float64\n",
      "Num_opps                              747239 non-null int64\n",
      "Number                                503850 non-null object\n",
      "One_km_NEO_flag                       1361 non-null float64\n",
      "One_opposition_object_flag            135573 non-null float64\n",
      "Orbit_type                            747239 non-null object\n",
      "Orbital_period                        747239 non-null float64\n",
      "Other_desigs                          63782 non-null object\n",
      "PHA_flag                              1861 non-null float64\n",
      "Peri                                  747239 non-null float64\n",
      "Perihelion_dist                       747239 non-null float64\n",
      "Perturbers                            631402 non-null object\n",
      "Perturbers_2                          631402 non-null object\n",
      "Principal_desig                       747136 non-null object\n",
      "Ref                                   747239 non-null object\n",
      "Semilatus_rectum                      747239 non-null float64\n",
      "Synodic_period                        747239 non-null float64\n",
      "Tp                                    747239 non-null float64\n",
      "U                                     639174 non-null object\n",
      "a                                     747239 non-null float64\n",
      "e                                     747239 non-null float64\n",
      "i                                     747239 non-null float64\n",
      "n                                     747239 non-null float64\n",
      "rms                                   747056 non-null float64\n",
      "dtypes: float64(24), int64(1), object(13)\n",
      "memory usage: 222.3+ MB\n"
     ]
    }
   ],
   "source": [
    "minor_planets.db.info()"
   ]
  },
  {
   "cell_type": "code",
   "execution_count": 6,
   "metadata": {},
   "outputs": [],
   "source": [
    "minor_planets.make_bodies()"
   ]
  },
  {
   "cell_type": "code",
   "execution_count": 7,
   "metadata": {},
   "outputs": [
    {
     "data": {
      "text/plain": [
       "<ephem.EllipticalBody '(1566) Icarus' at 0x7f947f752df0>"
      ]
     },
     "execution_count": 7,
     "metadata": {},
     "output_type": "execute_result"
    }
   ],
   "source": [
    "minor_planets.bodies['(1566) Icarus']"
   ]
  },
  {
   "cell_type": "code",
   "execution_count": 8,
   "metadata": {
    "collapsed": true
   },
   "outputs": [],
   "source": [
    "minor_planets.bodies['(1566) Icarus'].compute()"
   ]
  },
  {
   "cell_type": "code",
   "execution_count": 11,
   "metadata": {},
   "outputs": [
    {
     "data": {
      "text/plain": [
       "3.651808049117752"
      ]
     },
     "execution_count": 11,
     "metadata": {},
     "output_type": "execute_result"
    }
   ],
   "source": [
    "minor_planets.bodies['(1566) Icarus'].a_ra"
   ]
  },
  {
   "cell_type": "code",
   "execution_count": null,
   "metadata": {
    "collapsed": true
   },
   "outputs": [],
   "source": []
  }
 ],
 "metadata": {
  "kernelspec": {
   "display_name": "Python 3",
   "language": "python",
   "name": "python3"
  },
  "language_info": {
   "codemirror_mode": {
    "name": "ipython",
    "version": 3
   },
   "file_extension": ".py",
   "mimetype": "text/x-python",
   "name": "python",
   "nbconvert_exporter": "python",
   "pygments_lexer": "ipython3",
   "version": "3.6.2"
  }
 },
 "nbformat": 4,
 "nbformat_minor": 2
}
